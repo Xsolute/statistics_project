{
 "cells": [
  {
   "cell_type": "markdown",
   "metadata": {},
   "source": [
    "# 확률과 통계 수행평가\n",
    "그냥 구글에서 주는 자료보고 하면 될거 이왕이면 조금 재미있고 복잡하게 해봅시다"
   ]
  },
  {
   "cell_type": "code",
   "execution_count": 2,
   "metadata": {
    "collapsed": true
   },
   "outputs": [],
   "source": [
    "import json\n",
    "import gspread\n",
    "import numpy as np\n",
    "from pandas import Series,DataFrame\n",
    "from oauth2client.service_account import ServiceAccountCredentials"
   ]
  },
  {
   "cell_type": "code",
   "execution_count": 3,
   "metadata": {},
   "outputs": [],
   "source": [
    "SHEET_NAME = \"Res\"  # 스프레드 시트 이름 지정\n",
    "scope = ['https://spreadsheets.google.com/feeds']  # 링크\n",
    "credentials = ServiceAccountCredentials.from_json_keyfile_name(\n",
    "    'E:\\Develop\\Project\\statistics_project\\statistics_project\\data\\hwak.json', scope)\n"
   ]
  },
  {
   "cell_type": "code",
   "execution_count": 5,
   "metadata": {},
   "outputs": [],
   "source": [
    "gc = gspread.authorize(credentials)\n",
    "\n",
    "wks = gc.open(SHEET_NAME).sheet1\n",
    "res = wks.get_all_records() "
   ]
  },
  {
   "cell_type": "code",
   "execution_count": 44,
   "metadata": {
    "collapsed": false
   },
   "outputs": [
    {
     "data": {
      "text/plain": [
       "0    학생\n1    학생\n2    학생\n3    학생\n4    학생\n5    무직\nName: Status, dtype: object"
      ]
     },
     "execution_count": 44,
     "metadata": {},
     "output_type": "execute_result"
    }
   ],
   "source": [
    "dataSheet = DataFrame(res)\n",
    "dataSheet['Status']\n",
    "# print(dataSheet)"
   ]
  }
 ],
 "metadata": {
  "kernelspec": {
   "display_name": "Python 2",
   "language": "python",
   "name": "python2"
  },
  "language_info": {
   "codemirror_mode": {
    "name": "ipython",
    "version": 2
   },
   "file_extension": ".py",
   "mimetype": "text/x-python",
   "name": "python",
   "nbconvert_exporter": "python",
   "pygments_lexer": "ipython2",
   "version": "2.7.6"
  }
 },
 "nbformat": 4,
 "nbformat_minor": 0
}
